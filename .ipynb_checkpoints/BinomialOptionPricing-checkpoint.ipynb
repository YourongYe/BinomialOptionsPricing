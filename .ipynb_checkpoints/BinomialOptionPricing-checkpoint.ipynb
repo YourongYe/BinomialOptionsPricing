{
 "cells": [
  {
   "cell_type": "code",
   "execution_count": 4,
   "metadata": {},
   "outputs": [],
   "source": [
    "#https://en.wikipedia.org/wiki/Binomial_options_pricing_model\n",
    "#https://www.investopedia.com/articles/investing/021215/examples-understand-binomial-option-pricing-model.asp\n",
    "import math\n",
    "\n",
    "class BinomialOptionPricing:\n",
    "    def __init__(self, T, rf, n, sigma, stock_price, strike_price):\n",
    "        self.T = T\n",
    "        self.rf = rf #risk free rate\n",
    "        self.n = n\n",
    "        self.sigma = sigma #volatility\n",
    "        self.stock_price = stock_price\n",
    "        self.strike_price = strike_price\n",
    "        t = T/n\n",
    "        \n",
    "        self.up_rate = math.e**(sigma*math.sqrt(T/n))\n",
    "        print(\"up rate\",self.up_rate)\n",
    "        self.down_rate = 1/self.up_rate\n",
    "        print(\"down rate\", self.down_rate)\n",
    "        \n",
    "        self.discount_factor = math.e**(-rf*t)\n",
    "        print(\"discount factor\",self.discount_factor)\n",
    "\n",
    "        self.up_probability = (math.e**(rf*T/n) - self.down_rate)/(self.up_rate-self.down_rate)\n",
    "        self.down_probability = 1 - self.up_probability\n",
    "        print(\"up probability\",self.up_probability)\n",
    "        print(\"down probability\",self.down_probability)\n",
    "        \n",
    "    def __get_intrinsic_value_final_layer(self):\n",
    "        zero_layer = [1]\n",
    "        change_rate_final_layer = zero_layer\n",
    "        for level in range(1,self.n):\n",
    "            #print(\"generating level:\"+str(level))\n",
    "            last_elem = change_rate_final_layer[-1]*self.down_rate\n",
    "\n",
    "            change_rate_final_layer = [i*self.up_rate for i in change_rate_final_layer]\n",
    "\n",
    "            change_rate_final_layer.append(last_elem)\n",
    "            #print(change_rate_final_layer)\n",
    "\n",
    "        self.intrinsic_value_final_layer = [max(self.stock_price*rate-self.strike_price,0) for rate in change_rate_final_layer]\n",
    "\n",
    "        #print(\"final layer\",self.intrinsic_value_final_layer)\n",
    "        \n",
    "    def __get_init_intrinsic_value(self):\n",
    "        current_intrinsic_values = self.intrinsic_value_final_layer\n",
    "        while len(current_intrinsic_values)>1:\n",
    "            earlier_intrinsic_values = []\n",
    "            #print(current_intrinsic_values)\n",
    "            for i in range(1,len(current_intrinsic_values)):\n",
    "                up_intrinsic = current_intrinsic_values[i-1]\n",
    "                down_intrinsic = current_intrinsic_values[i]\n",
    "                expected_intrinsic_value = up_intrinsic*self.up_probability + down_intrinsic*self.down_probability\n",
    "                expected_intrinsic_value *= self.discount_factor\n",
    "                earlier_intrinsic_values.append(expected_intrinsic_value) \n",
    "            current_intrinsic_values = earlier_intrinsic_values\n",
    "\n",
    "        self.init_intrinsic_value = current_intrinsic_values[0]\n",
    "        \n",
    "    def get_price(self):\n",
    "        self.__get_intrinsic_value_final_layer()\n",
    "        self.__get_init_intrinsic_value()\n",
    "        return self.init_intrinsic_value"
   ]
  },
  {
   "cell_type": "code",
   "execution_count": 5,
   "metadata": {},
   "outputs": [
    {
     "name": "stdout",
     "output_type": "stream",
     "text": [
      "up rate 1.0091705030359295\n",
      "down rate 0.9909128308761092\n",
      "discount factor 0.9998333472214507\n",
      "up probability 0.506847181788212\n",
      "down probability 0.493152818211788\n",
      "option price 5.104444562695683\n"
     ]
    }
   ],
   "source": [
    "model = BinomialOptionPricing(T=1/3, rf=0.02, n=40,sigma=0.1, stock_price=221.2, strike_price=222.5)\n",
    "print(\"option price\", model.get_price())"
   ]
  },
  {
   "cell_type": "code",
   "execution_count": null,
   "metadata": {},
   "outputs": [],
   "source": []
  }
 ],
 "metadata": {
  "kernelspec": {
   "display_name": "Python 3",
   "language": "python",
   "name": "python3"
  },
  "language_info": {
   "codemirror_mode": {
    "name": "ipython",
    "version": 3
   },
   "file_extension": ".py",
   "mimetype": "text/x-python",
   "name": "python",
   "nbconvert_exporter": "python",
   "pygments_lexer": "ipython3",
   "version": "3.6.5"
  }
 },
 "nbformat": 4,
 "nbformat_minor": 2
}
